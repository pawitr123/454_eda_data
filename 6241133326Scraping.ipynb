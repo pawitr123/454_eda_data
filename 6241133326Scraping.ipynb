{
 "cells": [
  {
   "cell_type": "markdown",
   "metadata": {},
   "source": [
    "# Scrape Data from Shopee with beautifulsoup and selenium\n",
    "### Data เพื่อการทำ Marketing ของผู้ขาย ซึ่งประกอบไปด้วย\n",
    "- ชื่อสินค้าสินค้า ราคาสินค้าที่ขายจริง ยอดขายแต่ละสินค้า และจังหวัดที่เป็นต้นทางของสินค้า\n",
    "- ไฟล์นี้เป็นการเขียนเองนะครับผม หากผิดพลาดประการใดแจ้งได้เลยครับ\n",
    "# จัดทำโดย \n",
    "- ปวิตร ตุลวรรธนะ 6241133326"
   ]
  },
  {
   "cell_type": "code",
   "execution_count": null,
   "metadata": {},
   "outputs": [],
   "source": [
    "!pip install selenium\n",
    "!pip install bs4"
   ]
  },
  {
   "cell_type": "markdown",
   "metadata": {},
   "source": [
    "# Code ที่ต้อง Import"
   ]
  },
  {
   "cell_type": "code",
   "execution_count": null,
   "metadata": {},
   "outputs": [],
   "source": [
    "import pandas as pd\n",
    "from selenium import webdriver\n",
    "from selenium.webdriver.firefox.options import Options\n",
    "from selenium.webdriver.common.keys import Keys\n",
    "import bs4\n",
    "import time\n",
    "import re"
   ]
  },
  {
   "cell_type": "markdown",
   "metadata": {},
   "source": [
    "Gecko Driver: https://github.com/mozilla/geckodriver/releases"
   ]
  },
  {
   "cell_type": "markdown",
   "metadata": {},
   "source": [
    "# Selenium เพื่อการเข้า Web"
   ]
  },
  {
   "cell_type": "code",
   "execution_count": null,
   "metadata": {},
   "outputs": [],
   "source": [
    "#Open browser ด้วย Selenium\n",
    "options = Options()\n",
    "options.binary_location = r'C:\\Program Files\\Mozilla Firefox\\firefox.exe'\n",
    "driver = webdriver.Firefox(executable_path=r'C:\\Users\\COMPUTER\\Desktop\\Shopee_Web_Scraping\\geckodriver.exe', options=options)\n",
    "driver.get('https://shopee.co.th/')"
   ]
  },
  {
   "cell_type": "code",
   "execution_count": null,
   "metadata": {},
   "outputs": [],
   "source": [
    "#เลือกภาษาไทย Selenium\n",
    "thai_button = driver.find_element_by_xpath('/html/body/div[2]/div[1]/div[1]/div/div[3]/div[1]/button')\n",
    "thai_button.click()\n",
    "#time.sleep(3)"
   ]
  },
  {
   "cell_type": "code",
   "execution_count": null,
   "metadata": {},
   "outputs": [],
   "source": [
    "#ปิดโฆษณา Selenium\n",
    "close_adver = driver.execute_script('return document.querySelector(\"shopee-banner-popup-stateful\").shadowRoot.querySelector(\"div.shopee-popup__close-btn\")')\n",
    "close_adver.click()"
   ]
  },
  {
   "cell_type": "code",
   "execution_count": null,
   "metadata": {},
   "outputs": [],
   "source": [
    "#Search ใน Search bar ของ Shopee\n",
    "search = driver.find_element_by_xpath('/html/body/div[1]/div/div[2]/div[1]/div[2]/div/div[1]/div[1]/div/form/input')\n",
    "search.send_keys('computer')"
   ]
  },
  {
   "cell_type": "code",
   "execution_count": null,
   "metadata": {},
   "outputs": [],
   "source": [
    "#กด Enter\n",
    "search.send_keys(Keys.ENTER)"
   ]
  },
  {
   "cell_type": "code",
   "execution_count": null,
   "metadata": {},
   "outputs": [],
   "source": [
    "#Zoom out เพื่อให้ load ทั่วหน้าจอ\n",
    "driver.execute_script(\"document.body.style.MozTransform='scale(0.1)';\")\n",
    "driver.execute_script('document.body.style.MozTransformOrigin = \"0 0\";')"
   ]
  },
  {
   "cell_type": "markdown",
   "metadata": {},
   "source": [
    "# Scraping Process"
   ]
  },
  {
   "cell_type": "code",
   "execution_count": null,
   "metadata": {},
   "outputs": [],
   "source": [
    "data = driver.page_source #ดึงข้อมูลจากหน้าเว็บ\n",
    "soup = bs4.BeautifulSoup(data) #จัดในรูปแบบ BeautifulSoup"
   ]
  },
  {
   "cell_type": "code",
   "execution_count": null,
   "metadata": {},
   "outputs": [],
   "source": [
    "soup.select(\".row>div\") #css selector"
   ]
  },
  {
   "cell_type": "code",
   "execution_count": null,
   "metadata": {},
   "outputs": [],
   "source": [
    "el=soup.select(\".row>div\")"
   ]
  },
  {
   "cell_type": "code",
   "execution_count": null,
   "metadata": {},
   "outputs": [],
   "source": [
    "len(el)"
   ]
  },
  {
   "cell_type": "code",
   "execution_count": null,
   "metadata": {},
   "outputs": [],
   "source": [
    "e = el[0] #แทนกล่องของสินค้าแต่ละกล่อง"
   ]
  },
  {
   "cell_type": "markdown",
   "metadata": {},
   "source": [
    "# Scrape ชื่อ"
   ]
  },
  {
   "cell_type": "code",
   "execution_count": null,
   "metadata": {},
   "outputs": [],
   "source": [
    "#ดึงข้อมูลชื่อ\n",
    "e.select_one(\"div.col-xs-2-4 > a:nth-child(1) > div:nth-child(1) > div:nth-child(1) > div:nth-child(2) > div:nth-child(1) > div:nth-child(1) > div:nth-child(1)\").text.strip()"
   ]
  },
  {
   "cell_type": "markdown",
   "metadata": {},
   "source": [
    "# Scrape ราคา"
   ]
  },
  {
   "cell_type": "code",
   "execution_count": null,
   "metadata": {},
   "outputs": [],
   "source": [
    "#ราคา A baht - B baht, ราคาเต็ม\n",
    "e.select_one(\"div.col-xs-2-4> a> div:nth-child(1) > div:nth-child(1) > div:nth-child(2) > div:nth-child(2) > div:nth-child(1)\").text.strip()"
   ]
  },
  {
   "cell_type": "code",
   "execution_count": null,
   "metadata": {},
   "outputs": [],
   "source": [
    "#ราคาลดแล้ว\n",
    "p = e.select_one(\"div.col-xs-2-4 > a > div > div > div:nth-child(2) > div:nth-child(2)> div:nth-child(2)\").text.strip()\n",
    "if p == '':\n",
    "    print(1/0)\n",
    "p"
   ]
  },
  {
   "cell_type": "code",
   "execution_count": null,
   "metadata": {},
   "outputs": [],
   "source": [
    "#ราคารวมการตัด\n",
    "try:\n",
    "    p = e.select_one(\"div.col-xs-2-4 > a > div > div > div:nth-child(2) > div:nth-child(2)> div:nth-child(2)\").text.strip()\n",
    "    if p == '':\n",
    "        print(1/0)\n",
    "except:\n",
    "    p = e.select_one(\"div.col-xs-2-4 > a:nth-child(1) > div:nth-child(1) > div:nth-child(1) > div:nth-child(2) > div:nth-child(2) > div:nth-child(1)\").text.strip()\n",
    "p = p.replace(\",\", \"\").replace(\"฿\", \"\").replace(\" \", \"\")\n",
    "p"
   ]
  },
  {
   "cell_type": "code",
   "execution_count": null,
   "metadata": {},
   "outputs": [],
   "source": [
    "#ตัด - และเลือกเลขด้านหน้า Range\n",
    "try:\n",
    "    start_price = float(p)\n",
    "except:\n",
    "    price = p.rpartition('-')[0]\n",
    "    start_price = float(price)\n",
    "\n",
    "start_price"
   ]
  },
  {
   "cell_type": "code",
   "execution_count": null,
   "metadata": {},
   "outputs": [],
   "source": [
    "#รวม\n",
    "try:\n",
    "    p = e.select_one(\"div.col-xs-2-4 > a > div > div > div:nth-child(2) > div:nth-child(2)> div:nth-child(2)\").text.strip()\n",
    "except:\n",
    "    p = e.select_one(\"div.col-xs-2-4 > a:nth-child(1) > div:nth-child(1) > div:nth-child(1) > div:nth-child(2) > div:nth-child(2) > div:nth-child(1)\").text.strip()\n",
    "p = p.replace(\",\", \"\").replace(\"฿\", \"\").replace(\" \", \"\")\n",
    "try:\n",
    "    start_price = float(p)\n",
    "except:\n",
    "    price = p.rpartition('-')[0]\n",
    "    start_price = float(price)\n",
    "\n",
    "start_price"
   ]
  },
  {
   "cell_type": "markdown",
   "metadata": {},
   "source": [
    "# Scrape ยอดขาย"
   ]
  },
  {
   "cell_type": "code",
   "execution_count": null,
   "metadata": {},
   "outputs": [],
   "source": [
    "sales = e.select_one(\"div.col-xs-2-4 > a > div:nth-child(1) > div:nth-child(1) > div:nth-child(2) > div:nth-child(3) > div:nth-child(3)\").text.strip().replace(\"พัน\",\"000\").replace(\"ล้าน\",\"000000\")\n",
    "try:\n",
    "    sales = float(re.sub('\\D','',sales))\n",
    "except:\n",
    "    sales = 0\n",
    "sales"
   ]
  },
  {
   "cell_type": "markdown",
   "metadata": {},
   "source": [
    "# Scrape จังหวัด"
   ]
  },
  {
   "cell_type": "code",
   "execution_count": null,
   "metadata": {},
   "outputs": [],
   "source": [
    "#จังหวัด\n",
    "e.select_one(\"div.col-xs-2-4 > a:nth-child(1) > div:nth-child(1) > div:nth-child(1) > div:nth-child(2) > div:nth-child(4)\").text.strip()"
   ]
  },
  {
   "cell_type": "markdown",
   "metadata": {},
   "source": [
    "# Scrape ข้อมูลทั้งหมดที่ต้องการ"
   ]
  },
  {
   "cell_type": "markdown",
   "metadata": {},
   "source": [
    "ทำเป็น list ของในหน้านั้น ๆ ที่กำลังดูอยู่ใน Web Shopee\n",
    "นำ Code ต่าง ๆ มารวมกัน"
   ]
  },
  {
   "cell_type": "code",
   "execution_count": null,
   "metadata": {},
   "outputs": [],
   "source": [
    "records=[]\n",
    "data = driver.page_source\n",
    "soup = bs4.BeautifulSoup(data)\n",
    "el=soup.select(\".row>div\")\n",
    "for e in el:\n",
    "    name = e.select_one(\"div.col-xs-2-4 > a:nth-child(1) > div:nth-child(1) > div:nth-child(1) > div:nth-child(2) > div:nth-child(1) > div:nth-child(1) > div:nth-child(1)\").text.strip()\n",
    "    try:\n",
    "        p = e.select_one(\"div.col-xs-2-4 > a > div:nth-child(1) > div:nth-child(1) > div:nth-child(2) > div:nth-child(2) > div:nth-child(2)\").text.strip()\n",
    "        if p == '':\n",
    "            print(1/0)\n",
    "    except:\n",
    "        p = e.select_one(\"div.col-xs-2-4 > a:nth-child(1) > div:nth-child(1) > div:nth-child(1) > div:nth-child(2) > div:nth-child(2) > div:nth-child(1)\").text.strip()\n",
    "    p = p.replace(\",\", \"\").replace(\"฿\", \"\").replace(\" \", \"\")\n",
    "    try:\n",
    "        start_price = float(p)\n",
    "    except:\n",
    "        price = p.rpartition('-')[0]\n",
    "        start_price = float(price)\n",
    "\n",
    "    sales = e.select_one(\"div.col-xs-2-4 > a > div:nth-child(1) > div:nth-child(1) > div:nth-child(2) > div:nth-child(3) > div:nth-child(3)\").text.strip().replace(\"พัน\",\"000\").replace(\"ล้าน\",\"000000\")\n",
    "    try:\n",
    "        sales = float(re.sub('\\D','',sales))\n",
    "    except:\n",
    "        sales = 0\n",
    "    province = e.select_one(\"div.col-xs-2-4 > a:nth-child(1) > div:nth-child(1) > div:nth-child(1) > div:nth-child(2) > div:nth-child(4)\").text.strip()\n",
    "    #print(name, p)\n",
    "    records.append([name, start_price,sales,province])\n",
    "\n",
    "records"
   ]
  },
  {
   "cell_type": "code",
   "execution_count": null,
   "metadata": {},
   "outputs": [],
   "source": [
    "len(records)"
   ]
  },
  {
   "cell_type": "code",
   "execution_count": null,
   "metadata": {},
   "outputs": [],
   "source": [
    "#ใช้ Selenium ในการกดปุ่มเพื่อไปหน้าถัดไป\n",
    "next_button = driver.find_element_by_xpath('/html/body/div[1]/div/div[3]/div/div/div[2]/div[2]/div[3]/div/button[8]')\n",
    "next_button.click()"
   ]
  },
  {
   "cell_type": "code",
   "execution_count": null,
   "metadata": {},
   "outputs": [],
   "source": [
    "# การ Scrape ข้อมูลจากหลายหน้าของ Web Shopee\n",
    "records=[]\n",
    "for i in range(3):\n",
    "    data = driver.page_source\n",
    "    soup = bs4.BeautifulSoup(data)\n",
    "    el=soup.select(\".row>div\")\n",
    "    for e in el:\n",
    "        name = e.select_one(\"div.col-xs-2-4 > a:nth-child(1) > div:nth-child(1) > div:nth-child(1) > div:nth-child(2) > div:nth-child(1) > div:nth-child(1) > div:nth-child(1)\").text.strip()\n",
    "        try:\n",
    "            p = e.select_one(\"div.col-xs-2-4 > a > div:nth-child(1) > div:nth-child(1) > div:nth-child(2) > div:nth-child(2) > div:nth-child(2)\").text.strip()\n",
    "            if p == '':\n",
    "                print(1/0)\n",
    "        except:\n",
    "            p = e.select_one(\"div.col-xs-2-4 > a:nth-child(1) > div:nth-child(1) > div:nth-child(1) > div:nth-child(2) > div:nth-child(2) > div:nth-child(1)\").text.strip()\n",
    "        p = p.replace(\",\", \"\").replace(\"฿\", \"\").replace(\" \", \"\")\n",
    "        try:\n",
    "            start_price = float(p)\n",
    "        except:\n",
    "            price = p.rpartition('-')[0]\n",
    "            start_price = float(price)\n",
    "\n",
    "        sales = e.select_one(\"div.col-xs-2-4 > a > div:nth-child(1) > div:nth-child(1) > div:nth-child(2) > div:nth-child(3) > div:nth-child(3)\").text.strip().replace(\"พัน\",\"000\").replace(\"ล้าน\",\"000000\")\n",
    "        try:\n",
    "            sales = float(re.sub('\\D','',sales))\n",
    "        except:\n",
    "            sales = 0\n",
    "        province = e.select_one(\"div.col-xs-2-4 > a:nth-child(1) > div:nth-child(1) > div:nth-child(1) > div:nth-child(2) > div:nth-child(4)\").text.strip()\n",
    "        #print(name, p)\n",
    "        records.append([name, start_price,sales,province])\n",
    "\n",
    "\n",
    "    time.sleep(5)\n",
    "    next_button = driver.find_element_by_xpath('/html/body/div[1]/div/div[3]/div/div/div[2]/div[2]/div[3]/div/button[8]')\n",
    "    next_button.click()\n",
    "    time.sleep(5)\n"
   ]
  },
  {
   "cell_type": "code",
   "execution_count": null,
   "metadata": {},
   "outputs": [],
   "source": [
    "#ทำเป็น DataFrame\n",
    "df = pd.DataFrame(records, columns=['itemname','price','qty','province']) # ใส้ชื่อ Columns ทั้งหมด\n",
    "df"
   ]
  },
  {
   "cell_type": "markdown",
   "metadata": {},
   "source": [
    "# สูตรที่สามารถนำไปใช้ได้"
   ]
  },
  {
   "cell_type": "code",
   "execution_count": null,
   "metadata": {},
   "outputs": [],
   "source": [
    "# ตั้งแต่เริ่มจนจบ\n",
    "options = Options()\n",
    "options.binary_location = r'C:\\Program Files\\Mozilla Firefox\\firefox.exe' #เปลี่ยนตาม Location ของไฟล์ Firefox ของท่านเอง\n",
    "driver = webdriver.Firefox(executable_path=r'C:\\Users\\COMPUTER\\Desktop\\Shopee_Web_Scraping\\geckodriver.exe', options=options) #เปลี่ยนตาม Location Gecko Driver ของท่านเอง\n",
    "driver.get('https://shopee.co.th/')\n",
    "time.sleep(5)\n",
    "thai_button = driver.find_element_by_xpath('/html/body/div[2]/div[1]/div[1]/div/div[3]/div[1]/button')\n",
    "thai_button.click()\n",
    "time.sleep(3)\n",
    "close_adver = driver.execute_script('return document.querySelector(\"shopee-banner-popup-stateful\").shadowRoot.querySelector(\"div.shopee-popup__close-btn\")')\n",
    "close_adver.click()\n",
    "time.sleep(3)\n",
    "search = driver.find_element_by_xpath('/html/body/div[1]/div/div[2]/div[1]/div[2]/div/div[1]/div[1]/div/form/input')\n",
    "search.send_keys('dog') #ใส่เนื้อหาที่ต้องการที่จะ Scrape จากเว็บ Shopee\n",
    "search.send_keys(Keys.ENTER)\n",
    "\n",
    "driver.execute_script(\"document.body.style.MozTransform='scale(0.1)';\")\n",
    "driver.execute_script('document.body.style.MozTransformOrigin = \"0 0\";')\n",
    "\n",
    "time.sleep(5)\n",
    "records=[]\n",
    "for i in range(3): #ใส่จำนวนหน้าที่ต้องการ Scrape ในวงเล็บ\n",
    "    data = driver.page_source\n",
    "    soup = bs4.BeautifulSoup(data)\n",
    "    el=soup.select(\".row>div\")\n",
    "    for e in el: #เพิ่มเนื้อหาต่าง ๆ ที่จะ Scrape ใน Loop นี้\n",
    "        name = e.select_one(\"div.col-xs-2-4 > a:nth-child(1) > div:nth-child(1) > div:nth-child(1) > div:nth-child(2) > div:nth-child(1) > div:nth-child(1) > div:nth-child(1)\").text.strip()\n",
    "        try:\n",
    "            p = e.select_one(\"div.col-xs-2-4 > a > div:nth-child(1) > div:nth-child(1) > div:nth-child(2) > div:nth-child(2) > div:nth-child(2)\").text.strip()\n",
    "            if p == '':\n",
    "                print(1/0)\n",
    "        except:\n",
    "            p = e.select_one(\"div.col-xs-2-4 > a:nth-child(1) > div:nth-child(1) > div:nth-child(1) > div:nth-child(2) > div:nth-child(2) > div:nth-child(1)\").text.strip()\n",
    "        p = p.replace(\",\", \"\").replace(\"฿\", \"\").replace(\" \", \"\")\n",
    "        try:\n",
    "            start_price = float(p)\n",
    "        except:\n",
    "            price = p.rpartition('-')[0]\n",
    "            start_price = float(price)\n",
    "\n",
    "        sales = e.select_one(\"div.col-xs-2-4 > a > div:nth-child(1) > div:nth-child(1) > div:nth-child(2) > div:nth-child(3) > div:nth-child(3)\").text.strip().replace(\"พัน\",\"000\").replace(\"ล้าน\",\"000000\")\n",
    "        try:\n",
    "            sales = float(re.sub('\\D','',sales))\n",
    "        except:\n",
    "            sales = 0\n",
    "        province = e.select_one(\"div.col-xs-2-4 > a:nth-child(1) > div:nth-child(1) > div:nth-child(1) > div:nth-child(2) > div:nth-child(4)\").text.strip()\n",
    "        #print(name, p)\n",
    "        records.append([name, start_price,sales,province])\n",
    "\n",
    "\n",
    "    time.sleep(5)\n",
    "    next_button = driver.find_element_by_xpath('/html/body/div[1]/div/div[3]/div/div/div[2]/div[2]/div[3]/div/button[8]')\n",
    "    next_button.click()\n",
    "    time.sleep(5)\n",
    "\n",
    "df = pd.DataFrame(records, columns=['itemname','price','qty','province'])\n",
    "df"
   ]
  },
  {
   "cell_type": "code",
   "execution_count": null,
   "metadata": {},
   "outputs": [],
   "source": [
    "df.to_excel('Shopee_Computer.xlsx', encoding='utf-8')"
   ]
  },
  {
   "cell_type": "code",
   "execution_count": null,
   "metadata": {},
   "outputs": [],
   "source": []
  },
  {
   "cell_type": "code",
   "execution_count": null,
   "metadata": {},
   "outputs": [],
   "source": []
  }
 ],
 "metadata": {
  "interpreter": {
   "hash": "5ecb3a2dd521a260efab0c8465685b65d423102f6a05d3ed42acaa91136ba2a0"
  },
  "kernelspec": {
   "display_name": "Python 3.8.5 ('base')",
   "language": "python",
   "name": "python3"
  },
  "language_info": {
   "codemirror_mode": {
    "name": "ipython",
    "version": 3
   },
   "file_extension": ".py",
   "mimetype": "text/x-python",
   "name": "python",
   "nbconvert_exporter": "python",
   "pygments_lexer": "ipython3",
   "version": "3.8.5"
  },
  "orig_nbformat": 4
 },
 "nbformat": 4,
 "nbformat_minor": 2
}
